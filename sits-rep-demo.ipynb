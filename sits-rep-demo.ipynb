{
 "cells": [
  {
   "cell_type": "markdown",
   "metadata": {},
   "source": [
    "# **sits.rep - Automatização da Organização e Reprodução das Análises de Uso e Cobertura da Terra**"
   ]
  },
  {
   "cell_type": "markdown",
   "metadata": {},
   "source": [
    "O sits.rep é um pacote desenvolvido na linguagem R com o objetivo de reproduzir os experimentos executados com o pacote sits. Além disso, ele organiza automaticamente os experimentos em uma estrutura de árvore de dependências possibilitando que o usuário execute diversos experimentos e use seus resultados como entrada para novos experimentos. \n",
    "\n",
    "Abaixo será apresentada uma seção de Instalação no qual irá informar depêndencias necessárias para usar o pacote sits.rep. Após isso, será demonstrado uma seção, chamado de Script Não Reprodutível, no qual um script de classificação executado diretamento pelo sits e que não é possível obter o mesmo resultado caso seja executado mais de uma vez. Para que se possa reproduzir, será demonstrado uma seção, chamado de Script Reprodutível, que irá executar esse mesmo script com o sits.rep e possibilitará reproduzir essa classificação.\n",
    "\n",
    "<!-- \n",
    "permite o encadeamento dos experimentos em uma árvore de dependências possibilitando que os\n",
    "\n",
    "Este Jupyter Notebook tem objetivo de auxiliar a instaladação das dependências daqueles interessados no pacote sits.rep. No final, será realizado uma demonstração de uso do pacote, reproduzindo um script não reprodutível. -->\n",
    "\n",
    "<!-- A reprodutibilidade é uma condição da pesquisa científica com o propósito de garantir que os resultados observados nos experimentos originais sejam os mesmos quando são validados por pessoas distintas. Esse princípio permite qualquer pessoa recriar os experimentos produzidos e avançar o conhecimento sobre um determinado assunto, validando ou não as hipóteses descritas na pesquisa. Entretanto, alguns estudos apontam a existência de pesquisas científicas publicadas e revisadas por pares não reproduzíveis, criando uma preocupação na comunidade científica. Estes estudos alegam falta de rigor técnico e transparência sobre os dados e métodos usados durante o desenvolvimento dos experimentos.\n",
    "\n",
    "Para lidar com esses problemas, a comunidade científica desenvolveram documentos de boas práticas e ferramentas computacionais para auxiliar os pesquisadores a organizar e compartilhar dados, códigos e artefatos de suas publicações. Essas ferramentas, em geral, lidam com a reprodutibilidade após finalizado o desenvolvimento de todos os experimentos. Entretando, as pesquisas atuais possuem diversos passos e fases de experimentação que podem gerar bifurcações com experimentos e resultados distintos a cada execução. Se esse processo não for tratado durante o desenvolvimento dos experimentos, ou por ventura perder os códigos ou dados usados para produzir um determinado experimento, ao publicar a pesquisa não será possível reproduzir as análises finais. Por tanto, é de suma importância tratar a reprodutibilidade durante o desenvolvimento da pesquisa, e não somente no final do processo.\n",
    "\n",
    "Esse trabalho trata a questão da reprodutibilidade durante o processo de desenvolvimento da pesquisa, focando a sua metodologia no pacote sits desenvolvido no Instituto Nacional de Pesquisas Espaciais (INPE). Esse pacote é escrito na linguagem R e têm o propósito de centralizar um conjunto de ferramentas para permitir análises de séries temporais de imagens de satélite de uso e cobertura da terra. Dentro de seu escopo é possível realizar desde visualizações, suavizações e clusterizações até classificações de séries temporais usando algoritmos de aprendizagem de máquina. \n",
    "\n",
    "Por tanto, o objetivo desse trabalho é criar uma metodologia para sistematizar a organização e armazenamento de dados e metadados durante o desenvolvimento de pesquisas que faz uso do pacote sits. Além disso, através desses dados e metados, permitir a reprodutibilidade dos experimentos escolhidos pelos pesquisadores.  -->\n",
    "\n",
    "<!-- A reprodutibilidade é um tópico de grande discussão no meio acadêmico nos últimos anos. Isso ocorre devido existir experimentos de pesquisas científicas revisadas por pares não reprodutíveis. Dentre os diversos motivos apontados, estão a falta de rigor técnico e transparência sobre os dados e métodos usados durante o desenvolvimento dos experimentos.\n",
    "\n",
    "Para lidar com esses problemas, a comunidade científica desenvolveram documentos de boas práticas e ferramentas computacionais para auxiliar os pesquisadores a organizar e compartilhar dados, códigos e artefatos de suas publicações. Porém, em geral essas ferramentas computacionais lidam de forma estática com os experimentos científicos. Ou seja, quando todo o processo é finalizado e possuí um único fluxo de processamento que gera um resultado final. Isso faz com que os pesquisadores precisem finalizar a pesquisa antes de conseguir reproduzir todos os resultados. \n",
    "\n",
    "Em ambiente onde a análise de dados é um processo dinâmico, no qual um experimento pode gerar diversos outros experimentos, pode-se acabar perdendo os processos que levaram a gerar algum resultado. Por isso, é de suma importância desenvolver ferramentas que automatizem esse processo de organização de metadados dos experimentos, para que ao final do processo da pesquisa possa ser possível reproduzir em sua totalidade os resultados dos experimentos.\n",
    " -->\n",
    "\n",
    "\n",
    "\n",
    "<!-- \n",
    "\n",
    "\n",
    "No âmbito \n",
    "\n",
    "\n",
    "os pesquisadores têm discutidos formas automatizadas para facilitar o compartilhamento e a execução das análises das pesquisas. \n",
    "\n",
    "\n",
    "\n",
    "compartilhar dados \n",
    "\n",
    "\n",
    "Isso ocorre ao fato de ser um pilar do método científico, \n",
    "\n",
    "\n",
    "Ela é uma condição da pesquisa científica com o propósito de garantir que os resultados observados nos experimentos originais sejam os mesmos quando são validados por pessoas distintas. \n",
    "\n",
    "\n",
    "\n",
    "Isso ocorre devido a sua importância ao método científico, e consequentemente as pesquisas científicas, o que incentiva aos cientistas a aprimorarem \n",
    "\n",
    "\n",
    "\n",
    "Devido ao grande volume de dados usadas nas análises científicas, \n",
    "\n",
    "\n",
    "\n",
    "Isso ocorre ao fato dá credibilidade ao método científico, e consequentemente as pesquisas científicas, \n",
    "\n",
    "\n",
    "e a sistematização das análises de dados, \n",
    "\n",
    "\n",
    "\n",
    "Isso ocorre devido a sua importância \n",
    "\n",
    "\n",
    "a reprodutibilidade dá credibilidade ao método científico, e consequentimente as pesquisas científicas. \n",
    "\n",
    "\n",
    "\n",
    "Isso ocorre devido a sua importância \n",
    "\n",
    "Devido a sua importância para garantir \n",
    " -->\n",
    "\n",
    "\n",
    "\n",
    "<!-- A reprodutibilidade das pesquisas científicas tem sido um tópico de grande discussão no meio acadêmico. A sua importância é discutida em todas as ciências, dado que é um dos pilares do método científico, com o objetivo de garantir a verificação e confiabilidade da metodologia e dos resultados produzidos em uma pesquisa. Apesar de sua importância, diversos trabalhos das mais variadas áreas da ciência têm apontado dificuldades em reproduzir trabalhos científicos, revelando uma possível crise na reprodutibilidade. Na área de economia, por exemplo, o trabalho de Gertler concluiu que, dos 203 artigos empíricos analisados, somente 14\\% foram possíveis de replicação. Um dos problemas apontado por Gertler foi a falta de disponibilização aberta dos códigos e dados para reproduzir os resultados.  -->"
   ]
  },
  {
   "cell_type": "markdown",
   "metadata": {},
   "source": [
    "## **Instalação**"
   ]
  },
  {
   "cell_type": "markdown",
   "metadata": {},
   "source": [
    "Inicialmente, é preciso instalar o pacote sits. Alguns pacotes de terceiros **DEVEM** ser instalados previamente antes de iniciar a instalação do sits, são elas:\n",
    "- Python 3.6.8 (https://www.python.org/ftp/python/3.6.8/Python-3.6.8.tgz)\n",
    "- Tensorflow 1.9 (pip3.6 install --ignore-installed --upgrade tensorflow==1.9.0)\n",
    "- h5py (pip3.6 install --ignore-installed h5py)\n",
    "- GEOS 3.7.1 (download.osgeo.org/geos/geos-3.7.1.tar.bz2)\n",
    "- Proj 5.2 (download.osgeo.org/proj/proj-5.2.0.tar.gz)\n",
    "- HDF5 1.10.4 (https://support.hdfgroup.org/ftp/HDF5/releases/hdf5-1.10/hdf5-1.10.4/src/hdf5-1.10.4.tar.bz2)\n",
    "- GDAL 2.4.2 (download.osgeo.org/gdal/2.4.2/gdal-2.4.2.tar.gz)\n",
    "- sf (https://github.com/r-spatial/sf)\n",
    "\n",
    "É aconselhável instalar as depêndencias na ordem informada. Outras depêndencias são necessárias, mas essas são instaladas no próprio R. "
   ]
  },
  {
   "cell_type": "code",
   "execution_count": null,
   "metadata": {},
   "outputs": [],
   "source": [
    "install.packages('lwgeom')\n",
    "install.packages('tidyverse')\n",
    "install.packages('rgeos')\n",
    "install.packages('rversions')\n",
    "install.packages('roxygen2')\n",
    "\n",
    "install.packages('devtools')\n",
    "devtools::install_version('sf', '0.7-7', upgrade = FALSE, force=TRUE)\n",
    "devtools::install_version('raster', '2.9-23', upgrade = FALSE, force=TRUE)\n",
    "devtools::install_github(\"e-sensing/wtss\")\n",
    "devtools::install_github(\"pedro-andrade-inpe/sits.validate\",  upgrade = FALSE, force=TRUE)\n",
    "devtools::install_github(\"e-sensing/inSitu\",  upgrade = FALSE, force=TRUE)\n",
    "devtools::install_github(\"e-sensing/lucCalculus\",  upgrade = FALSE, force=TRUE)"
   ]
  },
  {
   "cell_type": "markdown",
   "metadata": {},
   "source": [
    "A versão do sits usada nesse exemplo e aceita pelo sits.rep é a versão 1.12.6. Por tanto, é necessário especificar a versão do commit específica da versão 1.12.6.\n",
    "Abaixo, segue o código R para a instalação do sits:"
   ]
  },
  {
   "cell_type": "code",
   "execution_count": null,
   "metadata": {},
   "outputs": [],
   "source": [
    "devtools::install_github('e-sensing/sits', ref ='d92bdc2f9b0f6158a8ae7ae8b7e4544fcca8390a',  upgrade = FALSE)"
   ]
  },
  {
   "cell_type": "markdown",
   "metadata": {},
   "source": [
    "Agora, basta importar o pacote sits para o ambiente R:"
   ]
  },
  {
   "cell_type": "code",
   "execution_count": null,
   "metadata": {},
   "outputs": [],
   "source": [
    "library(sits)"
   ]
  },
  {
   "cell_type": "markdown",
   "metadata": {},
   "source": [
    "Depois disso, basta instalar o pacote sits.rep:"
   ]
  },
  {
   "cell_type": "code",
   "execution_count": null,
   "metadata": {},
   "outputs": [],
   "source": [
    "devtools::install_github('https://github.com/RafaMariano/sits.rep')"
   ]
  },
  {
   "cell_type": "markdown",
   "metadata": {},
   "source": [
    "<!--  -->"
   ]
  },
  {
   "cell_type": "markdown",
   "metadata": {},
   "source": [
    "## **Script Não Reprodutível**"
   ]
  },
  {
   "cell_type": "markdown",
   "metadata": {},
   "source": [
    "Um script de classificação com o pacote sits deverá conter, no mínimo, cinco etapas que abrange desde a obtenção das amostras até a classificação de um conjunto de séries temporais de imagens de satélites. A seguir, serão abordadas cada uma dessas cinco etapas:\n",
    "\n",
    "\n",
    "<!-- Um script de classificação usando o sits deve conter, no mínimo, cinco etapas: -->\n",
    "- [Obteção das amostras](#Obtenção-das-Amostras);\n",
    "- [Definição do modelo](#Definição-do-Modelo);\n",
    "- [Treinamento do Modelo](#Treinamento-do-Modelo);\n",
    "- [Definição da coverage](#Definição-da-coverage);\n",
    "- [Classificação](#Classificação).\n",
    "\n",
    "<!-- Cada uma dessas etapas serão especificado a seguir. -->"
   ]
  },
  {
   "cell_type": "markdown",
   "metadata": {},
   "source": [
    "## Obtenção das Amostras"
   ]
  },
  {
   "cell_type": "markdown",
   "metadata": {},
   "source": [
    " As amostras usadas dentro do projeto e-sensing e de outros grupos de pesquisas são obtidas através do pacote inSitu (https://github.com/e-sensing/inSitu). Este pacote disponibiliza diversos conjuntos de amostras validadas de séries temporais da região da Amazônia e Cerrado. Para usá-la no R, basta importá-lo usando o comando 'library':\n",
    " \n",
    " \n",
    "<!--  Além disso, possuí total integração com o pacote sits devido os dados de amostra estarem no formato sits.tibble. Dessa forma, basta importar o pacote usando o comando R 'library(inSitu)' e -->\n",
    "\n",
    "\n",
    "<!--  Para treinar um modelo com o sits, é necessário informar um conjunto de amostras de séries temporais no formato sits.tibble. O pacote inSitu (https://github.com/e-sensing/inSitu) fornece amostras da região da Amazonia, Cerrado e do Mato Grosso neste formato específico, além disso todos os dados disponibilizados são usados constantemente dentro do projeto e-sensing, por tanto, são confiáveis. -->\n",
    "\n",
    "<!--  Para começar a usar o pacote, basta importar utilizando o 'library': -->\n"
   ]
  },
  {
   "cell_type": "code",
   "execution_count": null,
   "metadata": {},
   "outputs": [],
   "source": [
    "library(inSitu)"
   ]
  },
  {
   "cell_type": "markdown",
   "metadata": {},
   "source": [
    "Cada conjunto de amostras do pacote inSitu possuí um identificador único. Neste exemplo, será usado amostras do Estado do Mato Grosso (Brasil), identificado pela variável 'br_mt_1_8K_9classes_6bands'. Para mais informações sobre os indentificadores únicos das amostras, acesse o GitHub (https://github.com/e-sensing/inSitu) do projeto."
   ]
  },
  {
   "cell_type": "code",
   "execution_count": null,
   "metadata": {},
   "outputs": [],
   "source": [
    "data(\"br_mt_1_8K_9classes_6bands\")\n",
    "\n",
    "br_mt_1_8K_9classes_6bands[1,]"
   ]
  },
  {
   "cell_type": "markdown",
   "metadata": {},
   "source": [
    "Esse conjunto de dados compreende nove classes encontrados na região do Mato Grosso (\"Cerrado\", \"Fallow_Cotton\", \"Forest\", \"Millet_Cotton\", \"Pasture\", \"Soy_Corn\", \"Soy_Cotton\", \"Soy_Fallow\", \"Soy_Millet\") e possuí seis bandas (mir, blue, ndvi, nir, red, evi) com uma série temporal de doze meses cada. Esses dados foram obtidos do produto MOD13Q1. \n",
    "\n",
    "Os dados de amostras estão no formato sits.tibble, tendo total integração com o pacote sits e suas funções. Inclusive, caso o usuário deseje usar somente uma parte do conjunto de dados, o sits disponibiliza a função 'sits_select_bands' para selecionar somente as bandas de interesse.\n",
    "\n",
    "Para este exemplo, será usado a somente a série temporal da banda evi:\n",
    "\n",
    "<!-- Além disso, possuí total integração com o pacote sits devido os dados de amostra estarem no formato sits.tibble. Dessa forma, basta importar o pacote usando o comando R 'library(inSitu)' e -->\n",
    "\n",
    "\n",
    "<!--  Each time series comprehends 12 months (23 data points) from MOD13Q1 product, and has 6 bands. -->\n",
    "\n",
    "\n",
    "<!-- Esse conjunto de dados disponibiliza seis séries temporais de bandas: mir, blue, ndvi, nir, red, evi. -->\n",
    "<!-- O usuário pode utilizar parte das bandas disponíveis em vez de todo o conjunto e, para facilitar esse processo, o sits disponibiliza a função 'sits_select_bands'. Basta especificar o conjunto de dados e especificar quais bandas de interesse. -->\n",
    "\n",
    "<!-- Para este exemplo, será usado somente a banda evi: -->\n"
   ]
  },
  {
   "cell_type": "code",
   "execution_count": null,
   "metadata": {},
   "outputs": [],
   "source": [
    "bands <- c(\"evi\")\n",
    "\n",
    "samples.tb <- sits_select_bands_(br_mt_1_8K_9classes_6bands, bands)\n"
   ]
  },
  {
   "cell_type": "markdown",
   "metadata": {},
   "source": [
    "<!--  -->"
   ]
  },
  {
   "cell_type": "markdown",
   "metadata": {},
   "source": [
    "## Definição do Modelo"
   ]
  },
  {
   "cell_type": "markdown",
   "metadata": {},
   "source": [
    " O pacote sits disponibiliza diversos métodos de aprendizagem de máquina, alguns deles são: sits_deeplearning, sits_rfor e sits_svm. Nesse passo, é necessário escolher um modelo e definir os seus parâmetros. No exemplo abaixo, foi utilizado a função 'sits_deeplearning'. Com ela, é possível definir a configuração dos parâmetros de uma rede neural Multilayer Perceptron (MLP). Para mais informações sobre os respectivos parâmetros, acesse: https://github.com/e-sensing/sits-docs/blob/master/vignettes/machine_learning.pdf."
   ]
  },
  {
   "cell_type": "code",
   "execution_count": null,
   "metadata": {},
   "outputs": [],
   "source": [
    "ml_deep_learning = sits_deeplearning( units           = c(512, 512, 512),\n",
    "                                      activation       = 'relu',\n",
    "                                      dropout_rates    = c(0.50, 0.45, 0.40),\n",
    "                                      epochs = 1,\n",
    "                                      batch_size = 128,\n",
    "                                      validation_split = 0.2)"
   ]
  },
  {
   "cell_type": "markdown",
   "metadata": {},
   "source": [
    "<!--  -->"
   ]
  },
  {
   "cell_type": "markdown",
   "metadata": {},
   "source": [
    "## Treinamento do Modelo"
   ]
  },
  {
   "cell_type": "markdown",
   "metadata": {},
   "source": [
    "Com as amostras e modelo já definidos, basta passar ambos para a função 'sits_train' e o pacote sits irá treinar o modelo. "
   ]
  },
  {
   "cell_type": "code",
   "execution_count": null,
   "metadata": {},
   "outputs": [],
   "source": [
    "ml_model <-  sits_train(samples.tb, ml_deep_learning)"
   ]
  },
  {
   "cell_type": "markdown",
   "metadata": {},
   "source": [
    "<!--  -->"
   ]
  },
  {
   "cell_type": "markdown",
   "metadata": {},
   "source": [
    "## Definição da coverage"
   ]
  },
  {
   "cell_type": "markdown",
   "metadata": {},
   "source": [
    "<!-- É necessário definir uma coverage que será usado pelo sits para classificar um conjunto de séries temporais de uma determinada área do Brasil. Está coverage precisa conter um arquivo shapely com as geometrias referente a está área de interesse para que o sits requisite . Para o exemplo abaixo, será usado uma pequena região do Mato Grosso definido pelo arquivo 'geom.shp': -->\n",
    "\n",
    "É necessário definir uma coverage, através da função 'sits_coverage', para requisitar aos serviços de séries temporais dados referentes a uma determinada área do Brasil ou organizar as imagens de satélite disponíveis localmente. Para este exemplo, será usado o serviço 'EOCubes' e nele é necessário passar como argumento um arquivo shapely com as geometrias referente à área de interesse. Será usado uma pequena região (em azul) do Mato Grosso, entre São José do Apui e Novo Paraná, definido pelo arquivo 'geom.shp' :\n",
    "\n",
    "\n",
    "A área de interesse (em azul) corresponde uma pequena região do Estado do Mato Grosso (em verde), entre São José do Apui e Novo Paraná, presente no tile h12v10 do produto MOD13Q1:\n",
    "\n"
   ]
  },
  {
   "cell_type": "code",
   "execution_count": null,
   "metadata": {},
   "outputs": [],
   "source": [
    "library(tidyverse)\n",
    "library(sf)\n",
    "\n",
    "mt <- st_read(system.file(\"extdata/MT/shape/MT.shp\", package = \"inSitu\")) \n",
    "g <- st_read(paste0(getwd(), \"/geom/geom.shp\"))\n",
    "\n",
    "plot(c(mt$geometry, g$geometry),  col = c('green', 'blue'))"
   ]
  },
  {
   "cell_type": "markdown",
   "metadata": {},
   "source": [
    "Com a área de interesse e o serviço de séries temporais definida, é preciso completar quais bandas serão usadas e de qual produto. No exemplo abaixo, será usada as mesmas bandas definida na Obtenção das Amostras para manter a coerência dos dados e imagens do produto MOD13Q1 do sensor MODIS. Logo abaixo, é definido a função 'sits_coverage':\n",
    "\n",
    "\n",
    "<!-- Neste exemplo será usado o serviço 'EOCubes', informado através do parâmetro 'service'. Outros parâmetros são a coverage, será utilizado o produto MOD13Q1 do sensor MODIS, as bandas (as mesmas bandas definidas na Obtenção de Amostras) e um shapely que corresponde a área de interesse para ser usado como dados de entrada no classificador. A área de interesse (em azul) corresponde uma pequena região do Estado do Mato Grosso (em verde), entre São José do Apui e Novo Paraná, como pode ser observado logo abaixo: -->"
   ]
  },
  {
   "cell_type": "code",
   "execution_count": null,
   "metadata": {},
   "outputs": [],
   "source": [
    "cov.tb <- sits_coverage(service = \"EOCUBES\",\n",
    "                        name = \"MOD13Q1/006\",\n",
    "                        bands = bands,\n",
    "                        geom = sf::read_sf(paste0(getwd(), \"/geom/geom.shp\"))"
   ]
  },
  {
   "cell_type": "markdown",
   "metadata": {},
   "source": [
    "## Classificação"
   ]
  },
  {
   "cell_type": "markdown",
   "metadata": {},
   "source": [
    "Existem três tipos de classificadores existentes neste versão do pacote sits. Neste exemplo, será abordado somente o 'sits_classify_cubes' já que está função é específica para trabalhar com o serviço 'EOCubes', definida na coverage anteriormente. Esse classificador irá resultar um conjunto de imagens raster no diretório definido pelo argumento 'file' da função. Os outros argumentos da função são a coverage e o modelo de aprendizagem de máquina definidos anteriormente, e o máximo de memória e processadores permitido o sits usar.\n",
    "\n",
    "\n",
    "<!-- Nesta versão do sits está disponível três tipos de classificadores diferente. Como foi definido o serviço 'EOCubes' no 'sits_coverage', é necessário utilizar a função 'sits_classify_cubes' que é próprio para trabalhar com cubos de dados. Esse classificador irá gerar como resultado um conjunto de imagens RASTER em um diretório que deve ser específicado no argumento 'file'. Os outros parâmetros são a coverage e o modelo que foram definidos anteriormente e a quantidade de memória (em GB) e de processadores máximo permitido para ser usado. -->\n"
   ]
  },
  {
   "cell_type": "code",
   "execution_count": null,
   "metadata": {},
   "outputs": [],
   "source": [
    "if (!dir.exists(paste0(getwd(), \"/Classification/MT\")))\n",
    "  dir.create(paste0(getwd(), \"/Classification/MT\"), recursive = TRUE)\n",
    "\n",
    "rasters.tb <- sits_classify_cubes(file = paste0(getwd(), \"/Classification/MT\"),\n",
    "                                  coverage = cov.tb,\n",
    "                                  ml_model = ml_model,\n",
    "                                  memsize = 4,\n",
    "                                  multicores = 4)"
   ]
  },
  {
   "cell_type": "markdown",
   "metadata": {},
   "source": [
    "<!--  -->"
   ]
  },
  {
   "cell_type": "markdown",
   "metadata": {},
   "source": [
    "Esse processo após finalizado poderá ser repetido, porém as imagens raster de resultado da segunda execução serão diferentes da primeira. Caso queira realizar o teste, aconselho mover ou alterar o nome da pasta definida anteriormente pelo código 'paste0(getwd(), \"/Classification/MT\")' e depois utilizar o software QGIS para comparar as imagens do mesmo tempo.\n",
    "\n",
    "As imagens de raster serão diferentes devido ao processo de treinamento da MLP que utiliza uma semente da execução aleatória para inicializar a configuração da rede. A cada nova execução, uma nova semente será usada o que torna o modelo da rede neural diferente e, consequentemente, altera o resultado final.\n",
    "\n",
    "No proxímo passo, será demonstrado como tornar esse script reprodutível usando o pacote sits.rep."
   ]
  },
  {
   "cell_type": "markdown",
   "metadata": {},
   "source": [
    "## **Script Reprodutível**"
   ]
  },
  {
   "cell_type": "markdown",
   "metadata": {},
   "source": [
    "# Classificação"
   ]
  },
  {
   "cell_type": "markdown",
   "metadata": {},
   "source": [
    "Depois de finalizado o desenvolvimento de um script de classificação, um arquivo de extensão '.R' contendo todo o código deverá ser encontrado em seu ambiente de trabalho. É de suma importância conhecer o caminho de diretório deste script, para que se possa reproduzí-lo nos próximos passos. \n",
    "\n",
    "Logo abaixo, é demonstrado a localização do script de classificação que será usado nos exemplo a seguir. Ao analisar este arquivo, poderá perceber que contém os mesmos códigos descritos na fase do Script Não Reprodutível.\n",
    "\n",
    "<!-- ele deverá estar armazenado em um arquivo com extensão '.R'. Abaixo, é demonstrado a localização do script no diretório local. Ao analisar este arquivo, poderá perceber que contém os mesmos códigos descritos na fase do Script Não Reprodutível. -->\n",
    "\n",
    "<!-- \n",
    "Essa etapa o pesquisador desenvolve um script que será executado pelo sits.rep para armazenar os resultados. Neste exemplo, é explicado quais são as principais partes que um script de classificação deve conter para ser reproduzido. Durante a execução, é coletado o seu contexto que inclui parâmetros de entrada das funções, a semente do gerador de números aleatórios, o modelo treinado, o código original, resultados, informações de sistema operacional, dependências e o ambiente de programação.\n",
    "\n",
    "Todos os dados de entrada usado pelos pesquisadores para treinar um modelo e classificar séries temporais, possuem versionamentos e estruturas de dados bem definidas pelos pacotes inSitu e EOCubes. Desde que esses dados se encontram hospedados em serviços web e são explicitamente versionados, é possível recuperar exatamente a mesma versão dos dados usadas no treinamento e classificações. Por tanto, não sendo necessário armazená-los para garantir a reprodutibilidade, bastando coletar as versões de ambos os pacotes.\n",
    "\n",
    "O script que iremos utilizar a partir de agora se encontra no caminho a seguir:\n",
    " -->"
   ]
  },
  {
   "cell_type": "code",
   "execution_count": null,
   "metadata": {},
   "outputs": [],
   "source": [
    "script <- paste0(getwd(), \"/classification.R\")\n",
    "script"
   ]
  },
  {
   "cell_type": "markdown",
   "metadata": {},
   "source": [
    "<!--  -->"
   ]
  },
  {
   "cell_type": "markdown",
   "metadata": {},
   "source": [
    "Para tornar este script reprodutível, é preciso executá-lo através da biblioteca sits.rep. Foi desenvolvida uma função específica para tratar o processo de classificação, no qual irá armazenar em tempo de execução a semente aleatória e metadados específicos de ambiente. Além disso, essa função foi construída para que seja possível modularizar experimentos de pós classificação, se desenvolvendo em formato de árvore.\n",
    "\n",
    "Inicialmente, é preciso definir a árvore onde os experimentos serão armazenados.\n",
    "No exemplo abaixo, a árvore será nomeada como 'deep_learning' e pode ser encontrada no diretório '~/sits.rep' após executado.\n",
    "\n",
    "<!-- Essa biblioteca foi desenvolvida com o objetivo de facilitar a modularização dos experimentos.  -->\n",
    "\n",
    "\n",
    "<!-- Para tornar este script reprodutível, é necessário importar a biblioteca sits.rep e utilizar uma função específica para tratar o processo de classificação. Essa função irá armazenar a semente, dados e metadados durante a execução para que seja possível reproduzir sempre as mesma imagens raster de resultados. Além disso, essa função foi construída para que seja possível modularizar os experimento e tornar esse processo mais dinâmico.  -->\n",
    "\n",
    "\n",
    "<!-- Depois, basta importar para a memória do R: -->"
   ]
  },
  {
   "cell_type": "code",
   "execution_count": null,
   "metadata": {},
   "outputs": [],
   "source": [
    "library(sits.rep)\n",
    "\n",
    "useTree('deep_learning')"
   ]
  },
  {
   "cell_type": "markdown",
   "metadata": {},
   "source": [
    "E por fim, é executado a classificação logo abaixo."
   ]
  },
  {
   "cell_type": "code",
   "execution_count": null,
   "metadata": {},
   "outputs": [],
   "source": [
    "classify(script)"
   ]
  },
  {
   "cell_type": "markdown",
   "metadata": {},
   "source": [
    "<!-- O sits.rep disponibiliza duas funções, sendo uma para executar as classificações e outra para reproduzir. Focaremos nesse momento na função de classificação. -->"
   ]
  },
  {
   "cell_type": "markdown",
   "metadata": {},
   "source": [
    "## Estrutura de armazenamento dos experimento executados pelo sits.rep"
   ]
  },
  {
   "cell_type": "markdown",
   "metadata": {},
   "source": [
    "Durante a execução do script, metadados serão criados no diretório com o nome definido pelo usuário. Todos os dados serão armazenados a partir do diretório 'sits.rep' criada na raiz do sistema. Na imagem a seguir é demonstrada a estrutura criada pelo pacote.\n",
    "\n",
    "No Nível 1 serão armazenadas todos os diretórios iniciais criado pela função 'sits.rep_classify'. Esse diretório é chamado de árvore por armazenar todos os ramos de experimentos, demonstrado no Nível 2 na imagem, realizados ao longo do processo de análise de dados. Como uma árvore só pode ser criada através da função 'classify', ela irá ter somente uma classificação em todo seu ciclo de vida. Além disso, o Nível 2 irá conter um diretório chamado de Reprodutível que será detalhado posteriormente.\n",
    "\n",
    "No Nível 3 irá conter os metadados, resultados da execução e o script dos experimentos de classificação e pós-processamento, com exceção do diretório Reprodutível. A partir dos resultados obtidos na execução, será criado um arquivo contendo um valor hash para cada imagem raster. Esse arquivo será responsável para posteriormente o sits.rep verificar se os resultados reproduzidos são iguais aos originais. \n",
    "\n",
    "<!-- Para validar se os resultados foram os mesmos  -->\n",
    "\n",
    "<!-- No Nível 2 irá conter todos os experimentos criados na árvore e um diretório chamado Reprodutível, que será detalhado posteriormente.  -->\n",
    "\n",
    "\n",
    "<!-- Toda execução realizada pelo sits.rep é chamado de experimento. Para cada execução dos experimentos, será criado uma relação de árvore de dependências. Por padrão, a classificação sempre é raiz de uma árvore e única, logo, não irá existir duas classificações na mesma árvore. Futuramente será incluido a possibilidade de tratar o pós processamento, e nesse caso, esse experimento irá necessáriamente depender de um processo pai criado anteriormente, seja uma classificação ou outro experimento de pós processamento. Dessa forma, o sits.rep irá automaticamente incluir como dado de entrada no pós-processamento, o resultado do experimento pai. -->\n",
    "\n",
    "<!-- A função para classificação do sits.rep (chamado de 'sits.rep_classify') recebe dois parâmetros de entrada: um nome único para árvore e um script de classificação. Como resultado dessa função, será criado um diretório com o nome da árvore e, dentro desse diretório, conterá experimentos de classificação e, futuramente, de pós-processamento. A imagem abaixo exemplifica essa estrutura de diretório. A árvore 'arv_1' possuí três experimentos: uma classificação e dois de pós-processamento (pos_bayes, mosaico). A ligação de parentesco entre os experimentos é dado pelo arquivo 'grafo.txt'. Dentro de cada experimento deverá conter uma cópia do script, o resultado da execução, um hash dos resultados, arquivo de contexto e outros dados particulares de cada execução. O arquivo de hash dos resultados será usado na fase de [Reprodução dos Resultados](#Reprodução-dos-Resultados) para que, após reproduzir o experimento, verificar se os resultados são iguais. O diretório reprodutível será abordado na seção [Reprodução dos Resultados](#Reprodução-dos-Resultados). -->\n",
    "\n",
    "\n",
    "\n",
    "\n",
    "<!-- Logo abaixo, é executado a função para classificação. O primeiro argumento é o nome da árvore que irá se chamar 'arv_1' e o segundo é o script. -->"
   ]
  },
  {
   "cell_type": "markdown",
   "metadata": {},
   "source": [
    "![alt text](img/arvore_dependencia.png \"Estrutura de diretório organizado pelo sits.rep\")\n"
   ]
  },
  {
   "cell_type": "markdown",
   "metadata": {},
   "source": [
    "<!-- # sits.rep_classify(\"arv_1\", script) -->"
   ]
  },
  {
   "cell_type": "markdown",
   "metadata": {},
   "source": [
    "Finalizado a execução, é possível visualizar a árvore e o experimento armazenado no diretório padrão '~/sits.rep'."
   ]
  },
  {
   "cell_type": "code",
   "execution_count": null,
   "metadata": {},
   "outputs": [],
   "source": [
    "list.dirs('~/sits.rep', recursive = TRUE)"
   ]
  },
  {
   "cell_type": "markdown",
   "metadata": {},
   "source": [
    "# Pós-processamento"
   ]
  },
  {
   "cell_type": "markdown",
   "metadata": {},
   "source": [
    "Finalizado a execução do experimento, o usuário pode inicializar o desenvolvimento de uma série de experimentos de pós-processamento sobre um nó da árvore. Para isso, o usuário precisa implementar uma função de pós-processamento que deve conter três parâmetros de entrada. Em tempo de execução, o pacote sits.rep irá inserir respectivamente: a localização com os resultados das imagens de satélite do experimento pai, um objeto R e o diretório de saída para onde o usuário poderá salvar arquivos ou imagens de satélite de interesse. \n",
    "\n",
    "A função de pós-processamento, como demonstrado abaixo sobre o parâmatro 'func', é usado como entrada para a função de pós-processamento do sits.rep. Além disso, deve ser incluído o nome do experimento pai e um nome para esse novo experimento de pós-processamento.\n",
    "\n",
    "No experimento abaixo, é usado o experimento 'classification' da árvore 'deep_learning' executado anteriormente como entrada para esse novo experimento, chamado de 'smooth'. Para o parâmetro 'func', será usada uma função chamada de 'smooth' presente no pacote sits.rep de exemplo. Ela executa uma função de segunda ordem para aplicar um filtro Bayesiano sobre todas as imagens classificadas.\n",
    "\n",
    "Esse processo de pós-processamento pode se repetir usando o 'smooth' ou 'classification' como experimento pai de entrada, ou  criando um novo experimento.\n"
   ]
  },
  {
   "cell_type": "code",
   "execution_count": null,
   "metadata": {},
   "outputs": [],
   "source": [
    "sits.rep::smooth"
   ]
  },
  {
   "cell_type": "code",
   "execution_count": null,
   "metadata": {},
   "outputs": [],
   "source": [
    "sits.rep::pos_processing(parent = \"classification\", process = \"smooth\", func =  sits.rep::smooth)"
   ]
  },
  {
   "cell_type": "markdown",
   "metadata": {},
   "source": [
    "Os dois próximos comandos são executados para criar mosaicos sobre as imagens do resultado do experimento inicial, bem como do experimento 'smooth'. O pacote EOCubes divide a grade original do MODIS em grades de tamanho 10x10, sendo interessante produzir apenas uma imagem para posteriormente aplicar máscaras. Ao criar um novo experimento a partir de um nó que já possua um filho,  o sits.rep automaticamente cria uma bifurcação na árvore."
   ]
  },
  {
   "cell_type": "code",
   "execution_count": null,
   "metadata": {},
   "outputs": [],
   "source": [
    "sits.rep::merge"
   ]
  },
  {
   "cell_type": "code",
   "execution_count": null,
   "metadata": {},
   "outputs": [],
   "source": [
    "sits.rep::pos_processing(parent = \"smooth\", process = \"mosaic\", func = sits.rep::merge)"
   ]
  },
  {
   "cell_type": "code",
   "execution_count": null,
   "metadata": {},
   "outputs": [],
   "source": [
    "sits.rep::pos_processing(parent = \"classification\", process = \"classify_mosaic\", func = sits.rep::merge)"
   ]
  },
  {
   "cell_type": "markdown",
   "metadata": {},
   "source": [
    "## Reprodução do Experimento de Classificação"
   ]
  },
  {
   "cell_type": "markdown",
   "metadata": {},
   "source": [
    "Após finalizado a execução dos experimentos de uma árvore, é possível criar um script reprodutível a partir dos metadados armazenados e reproduzí-lo em um container Docker. Esse script será responsável por inserir a semente da execução, verificar se os dados foram reprodutíveis e preparar o ambiente para a execução do script de classificação original. \n",
    "\n",
    "Para isso, o sits.rep disponibiliza a função 'reproduce' que recebe como entrada o nome de uma árvore existente, nome de um experimento presente nesta árvore escolhida e um nome de diretório que será criado no diretório Reprodutível, presente no Nível 2, para armazenar os metadados do script reprodutível. Na imagem abaixo é demonstrado a estrutura do diretório Reprodutível e, para este exemplo, o nome 'Classificação_rep' será usado para representar o novo diretório criado pela função 'sits.rep_reproduce'. \n",
    "\n",
    "\n",
    "\n",
    "<!-- como demonstrado na imagem abaixo.  -->\n",
    "\n",
    "<!-- Esse diretório criado irá conter  -->\n",
    "\n",
    "<!-- Para isso, o sits.rep disponibiliza a função 'sits.rep_reproduce' que \n",
    "\n",
    "Após finalizado a execução do experimento, o sits.rep permite criar um script reprodutível para que outras pessoas possam reproduzí-lo em um container Docker. \n",
    "\n",
    "\n",
    "\n",
    "executado em um container do Docker. \n",
    "\n",
    "\n",
    "O sits.rep disponibiliza a função 'sits.rep_reproduce' que irá criar scripts, metadados, Dockerfile e copiar o arquivo de hash para reproduzir e verificar os resultados. O arquivo de Dockerfile irá conter todas as informações de dependências de sistema operacional e de pacotes de linguagem de programação, para um container possa ser criado simulando o ambiente original. Na imagem a seguir é demonstrado a estrutura do diretório após a execução da função 'sits.rep_reproduce'.\n",
    " -->\n"
   ]
  },
  {
   "cell_type": "markdown",
   "metadata": {},
   "source": [
    "![alt text](img/rep-docker.png \"Title\")"
   ]
  },
  {
   "cell_type": "markdown",
   "metadata": {},
   "source": [
    "Logo abaixo, é executado a função 'sits.rep_reproduce' sobre o experimento de Classificação presente na árvore Deep_learning. Os dados reprodutíveis serão armazenados no diretório Classificacao_rep na raíz do diretório Reprodutível: \n",
    "<!-- Para executar o 'sits_rep.reproduce', é necessário informar o nome do experimento, juntamente com a sua árvore, e o nome do diretório aonde será armazenado o script e os dados para a reprodução. Logo abaixo, é demonstrado o uso da função 'sits.rep_reproduce': -->\n"
   ]
  },
  {
   "cell_type": "code",
   "execution_count": null,
   "metadata": {},
   "outputs": [],
   "source": [
    "reproduce(\"classification\", \"classificacao_rep\")"
   ]
  },
  {
   "cell_type": "markdown",
   "metadata": {},
   "source": [
    "Finalizado a execução, o pesquisador poderá carregar este novo diretório em uma base de dados aberta e acompanhar um texto científico em suas publicações para que outras pessoas possam reproduzir o experimento de classificação. Para reproduzir o resultado, basta executar a função 'build' do sits.rep no diretório reprodutível criado.\n",
    "\n",
    "<!-- sobre o diretório em uma máquina que possua a tecnologia Docker instalado.  -->\n",
    "\n",
    "Logo abaixo é demonstrado a reprodução da classificação usando a tecnologia Docker, criando a imagem 'rep_in_jupyter' que irá executar o script reprodutível automaticamente e retornar para o usuário os resultados foram iguais ou não:\n",
    "\n",
    "<!-- Esta tecnologia permite virtualizar ambientes computacionais controlados e executar scripts. O ambiente computacional é criado através dos dados de contexto obtidos durante a execução dos scripts que se materializou em um Dockerfile. Por tanto, são instaladas todas as dependências de sistema operacional, pacotes, com as suas respectivas versões no momento da execução original, além de configurar a semente do gerador de números aleatórios e outras informações de sistema.  Nesta máquina virtual, o script reprodutível é executado e é criado um arquivo hash reprodutível dos resultados. No final do processo, o arquivo hash original é comparado com o arquivo reprodutível, para verificar se os resultados produzidos são exatamente os mesmos do experimento original. -->\n",
    "\n",
    "<!-- No comando abaixo é criado uma imagem chamado 'rep_in_jupyter' que irá executar o script reprodutível automaticamente: -->"
   ]
  },
  {
   "cell_type": "code",
   "execution_count": null,
   "metadata": {},
   "outputs": [],
   "source": [
    "buildContainer(\"classificacao_rep\")"
   ]
  },
  {
   "cell_type": "markdown",
   "metadata": {},
   "source": [
    "Se preferir, é possível usar o comando 'docker build' manualmente:"
   ]
  },
  {
   "cell_type": "code",
   "execution_count": null,
   "metadata": {},
   "outputs": [],
   "source": [
    "base::system(\"docker build -t rep_in_jupyter /home/rafael/sits.rep/arv_1/reproducible/rep_deeplearnings\")"
   ]
  },
  {
   "cell_type": "markdown",
   "metadata": {},
   "source": [
    "<!-- O container irá instalar as depêndencias do pacote, executar o script reprodutível e verificar o resultado. Será imprimido no terminal se o resultado foi ou não reprodutível. -->"
   ]
  },
  {
   "cell_type": "markdown",
   "metadata": {},
   "source": [
    "<!-- Referencias:\n",
    "\\cite{doi:10.1198/106186007X178663, 10.7717/peerj.148, Boettiger:2015:IDR:2723872.2723882, doi:10.1111/tgis.12195}\n",
    "et al \\cite{gertler2018make} \n",
    "\\cite{doi:10.1029/2012EO160003, doi:10.1002/2015EA000136}\n",
    "https://www.okhub.org/ (propósito geral)\n",
    "\n",
    "https://github.com/geosec/knowledge_hub\n",
    "http://www.esensing.org/\n",
    "nust2017opening\n",
    "https://www.earthobservations.org/article.php?id=366\n",
    "artigo_alber\n",
    "\n",
    "\\cite{10.1371/journal.pmed.0020124, prinz2011believe, baker20161}\n",
    "\\cite{reich2006genepattern, greff2017sacred, nust2017opening, govoni2019qresp} -->"
   ]
  },
  {
   "cell_type": "markdown",
   "metadata": {},
   "source": [
    "<!-- \n",
    "Os dados de contexto são capturados através de sobrescrita, em tempo de execução, das principais funções presentes nos pacotes sits e base do R. Quando um script é executado pelo 'sits.rep_classify', devido às funções sobrescritas serem inicialmente carregadas na memória global do R, as funções do sits.rep serão utilizadas em vez das funções originais do sits. As funções sobrescritas capturam os parâmetros de entrada, armazenam em um repositório, e no final usam as respectivas funções originais, passando os mesmos parâmetros de entrada, para que o seu resultado seja retornado e o processamento prossiga como se a sobrecarga não existisse.\n",
    "\n",
    "Para exemplificar essa idéia, logo abaixo iremos sobrescrever a função 'sits_coverage' do pacote sits. Essa função recebe quatro argumentos de entrada:  -->"
   ]
  },
  {
   "cell_type": "markdown",
   "metadata": {},
   "source": [
    "<!-- sits_coverage(service = \"EOCUBES\",\n",
    "              name = \"MOD13Q1/006\",\n",
    "              bands = \"ndvi\",\n",
    "              geom = sf::read_sf(paste0(getwd(), \"/geom/geom.shp\"))) -->"
   ]
  },
  {
   "cell_type": "markdown",
   "metadata": {},
   "source": [
    "<!-- Para sobrescrever o 'sits_coverage', é necessário criar uma função com a mesma assinatura, ou seja, com o mesmo nome da função e quantidade de argumentos. No interior da função sobrescrita, é possível analisar os valores de cada parâmetro para tomar alguma decisão, por exemplo, armazenar esses parâmetros. Neste exemplo, o valor de cada parâmetro será impresso no terminal. O seu retorno deve ser o resultado da função original para que o processamento pode ser seguido como se a sobrecarga não existisse. Assim, é chamado a função original (acessado através do nome do pacote seguido por '::') para que o seu resultado seja o retorno da função sobrescrita. \n",
    "\n",
    "Logo abaixo é exemplificado essa idéia sobrescrevendo o 'sits_coverage' com o propósito de imprimir no terminal o valor armazenado por cada argumento da função e no final é retornado o resultado da função original presente no sits: -->"
   ]
  },
  {
   "cell_type": "markdown",
   "metadata": {},
   "source": [
    "<!-- sits_coverage <- function(service, name, bands, geom){\n",
    "    print(service)\n",
    "    print(name)\n",
    "    print(bands)\n",
    "    print(geom)\n",
    "    \n",
    "    return(sits::sits_coverage(service = service, name = name, bands = bands, geom = geom)) \n",
    "} -->"
   ]
  },
  {
   "cell_type": "markdown",
   "metadata": {},
   "source": [
    "<!-- Agora, ao executar a função 'sits_coverage' é impresso impresso os argumentos e o resultado original do 'sits_coverage': -->"
   ]
  },
  {
   "cell_type": "markdown",
   "metadata": {},
   "source": [
    "<!-- sits_coverage(service = \"EOCUBES\",\n",
    "              name = \"MOD13Q1/006\",\n",
    "              bands = \"ndvi\",\n",
    "              geom = sf::read_sf(paste0(getwd(), \"/geom/geom.shp\"))) -->"
   ]
  },
  {
   "cell_type": "markdown",
   "metadata": {},
   "source": [
    "<!-- Esse exemplo demonstra o que o sits.rep faz internamente. Nem todas as funções do sits são sobrescritas, depende da necessidade de armazenar um dado específico. \n",
    "Os parâmetro da função sobrescrita não são modificados, para que o resultado final possa ser o mesmo da sua contraparte original.  -->"
   ]
  }
 ],
 "metadata": {
  "kernelspec": {
   "display_name": "R",
   "language": "R",
   "name": "ir"
  },
  "language_info": {
   "codemirror_mode": "r",
   "file_extension": ".r",
   "mimetype": "text/x-r-source",
   "name": "R",
   "pygments_lexer": "r",
   "version": "3.6.2"
  }
 },
 "nbformat": 4,
 "nbformat_minor": 4
}
